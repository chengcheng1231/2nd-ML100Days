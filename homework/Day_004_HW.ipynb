{
 "cells": [
  {
   "cell_type": "code",
   "execution_count": 6,
   "metadata": {
    "colab": {},
    "colab_type": "code",
    "id": "lh9gyloHVblR"
   },
   "outputs": [],
   "source": [
    "import os\n",
    "import numpy as np\n",
    "import pandas as pd"
   ]
  },
  {
   "cell_type": "code",
   "execution_count": 33,
   "metadata": {
    "colab": {},
    "colab_type": "code",
    "id": "z4iLB9cKVblV"
   },
   "outputs": [],
   "source": [
    "# 設定 data_path, 並讀取 app_train\n",
    "dir_data = './data/'\n",
    "f_app_train = os.path.join(dir_data, 'application_train.csv')\n",
    "app_train = pd.read_csv(f_app_train)\n"
   ]
  },
  {
   "cell_type": "markdown",
   "metadata": {
    "colab": {},
    "colab_type": "code",
    "collapsed": true,
    "id": "d5IeEcPVVblq"
   },
   "source": [
    "## 作業\n",
    "將下列部分資料片段 sub_train 使用 One Hot encoding, 並觀察轉換前後的欄位數量 (使用 shape) 與欄位名稱 (使用 head) 變化"
   ]
  },
  {
   "cell_type": "code",
   "execution_count": 30,
   "metadata": {},
   "outputs": [
    {
     "name": "stdout",
     "output_type": "stream",
     "text": [
      "       WEEKDAY_APPR_PROCESS_START\n",
      "0                       WEDNESDAY\n",
      "1                          MONDAY\n",
      "2                          MONDAY\n",
      "3                       WEDNESDAY\n",
      "4                        THURSDAY\n",
      "5                       WEDNESDAY\n",
      "6                          SUNDAY\n",
      "7                          MONDAY\n",
      "8                       WEDNESDAY\n",
      "9                        THURSDAY\n",
      "10                       SATURDAY\n",
      "11                         FRIDAY\n",
      "12                         FRIDAY\n",
      "13                       THURSDAY\n",
      "14                         MONDAY\n",
      "15                       SATURDAY\n",
      "16                       THURSDAY\n",
      "17                         MONDAY\n",
      "18                         FRIDAY\n",
      "19                         MONDAY\n",
      "20                         FRIDAY\n",
      "21                         MONDAY\n",
      "22                       THURSDAY\n",
      "23                         FRIDAY\n",
      "24                       THURSDAY\n",
      "25                       SATURDAY\n",
      "26                         MONDAY\n",
      "27                       SATURDAY\n",
      "28                      WEDNESDAY\n",
      "29                        TUESDAY\n",
      "...                           ...\n",
      "307481                     FRIDAY\n",
      "307482                   THURSDAY\n",
      "307483                     MONDAY\n",
      "307484                     MONDAY\n",
      "307485                   SATURDAY\n",
      "307486                   SATURDAY\n",
      "307487                  WEDNESDAY\n",
      "307488                  WEDNESDAY\n",
      "307489                     FRIDAY\n",
      "307490                   SATURDAY\n",
      "307491                   SATURDAY\n",
      "307492                     FRIDAY\n",
      "307493                     MONDAY\n",
      "307494                     MONDAY\n",
      "307495                  WEDNESDAY\n",
      "307496                   THURSDAY\n",
      "307497                   THURSDAY\n",
      "307498                     MONDAY\n",
      "307499                    TUESDAY\n",
      "307500                     FRIDAY\n",
      "307501                  WEDNESDAY\n",
      "307502                     MONDAY\n",
      "307503                   SATURDAY\n",
      "307504                  WEDNESDAY\n",
      "307505                     MONDAY\n",
      "307506                   THURSDAY\n",
      "307507                     MONDAY\n",
      "307508                   THURSDAY\n",
      "307509                  WEDNESDAY\n",
      "307510                   THURSDAY\n",
      "\n",
      "[307511 rows x 1 columns]\n",
      "(307511, 1)\n"
     ]
    }
   ],
   "source": [
    "from sklearn.preprocessing import LabelEncoder\n",
    "\n",
    "sub_train = pd.DataFrame(app_train['WEEKDAY_APPR_PROCESS_START'])\n",
    "print(sub_train.shape)\n",
    "\n"
   ]
  },
  {
   "cell_type": "code",
   "execution_count": 34,
   "metadata": {},
   "outputs": [
    {
     "ename": "NameError",
     "evalue": "name 'df' is not defined",
     "output_type": "error",
     "traceback": [
      "\u001b[1;31m---------------------------------------------------------------------------\u001b[0m",
      "\u001b[1;31mNameError\u001b[0m                                 Traceback (most recent call last)",
      "\u001b[1;32m<ipython-input-34-392d4fb871a0>\u001b[0m in \u001b[0;36m<module>\u001b[1;34m\u001b[0m\n\u001b[0;32m      5\u001b[0m \u001b[0mdf2\u001b[0m \u001b[1;33m=\u001b[0m \u001b[0mpd\u001b[0m\u001b[1;33m.\u001b[0m\u001b[0mget_dummies\u001b[0m\u001b[1;33m(\u001b[0m\u001b[0msub_train\u001b[0m\u001b[1;33m[\u001b[0m\u001b[1;34m'WEEKDAY_APPR_PROCESS_START'\u001b[0m\u001b[1;33m]\u001b[0m\u001b[1;33m)\u001b[0m\u001b[1;33m\u001b[0m\u001b[1;33m\u001b[0m\u001b[0m\n\u001b[0;32m      6\u001b[0m \u001b[0mdf2\u001b[0m\u001b[1;33m.\u001b[0m\u001b[0mhead\u001b[0m\u001b[1;33m(\u001b[0m\u001b[1;33m)\u001b[0m\u001b[1;33m\u001b[0m\u001b[1;33m\u001b[0m\u001b[0m\n\u001b[1;32m----> 7\u001b[1;33m \u001b[0mdf\u001b[0m\u001b[1;33m.\u001b[0m\u001b[0mjoin\u001b[0m\u001b[1;33m(\u001b[0m\u001b[0mdf2\u001b[0m\u001b[1;33m)\u001b[0m\u001b[1;33m.\u001b[0m\u001b[0mhead\u001b[0m\u001b[1;33m(\u001b[0m\u001b[1;33m)\u001b[0m\u001b[1;33m\u001b[0m\u001b[1;33m\u001b[0m\u001b[0m\n\u001b[0m",
      "\u001b[1;31mNameError\u001b[0m: name 'df' is not defined"
     ]
    }
   ],
   "source": [
    "\"\"\"\n",
    "Your Code Here\n",
    "\"\"\"\n",
    "\n",
    "df2 = pd.get_dummies(sub_train['WEEKDAY_APPR_PROCESS_START'])\n",
    "df2.head()\n",
    "df.join(df2).head()"
   ]
  },
  {
   "cell_type": "code",
   "execution_count": null,
   "metadata": {},
   "outputs": [],
   "source": []
  },
  {
   "cell_type": "code",
   "execution_count": null,
   "metadata": {},
   "outputs": [],
   "source": []
  }
 ],
 "metadata": {
  "colab": {
   "name": "Day_004_column_data_type.ipynb",
   "provenance": [],
   "version": "0.3.2"
  },
  "kernelspec": {
   "display_name": "Python 3",
   "language": "python",
   "name": "python3"
  },
  "language_info": {
   "codemirror_mode": {
    "name": "ipython",
    "version": 3
   },
   "file_extension": ".py",
   "mimetype": "text/x-python",
   "name": "python",
   "nbconvert_exporter": "python",
   "pygments_lexer": "ipython3",
   "version": "3.7.3"
  }
 },
 "nbformat": 4,
 "nbformat_minor": 1
}

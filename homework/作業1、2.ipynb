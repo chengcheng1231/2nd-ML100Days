{
 "cells": [
  {
   "cell_type": "code",
   "execution_count": null,
   "metadata": {},
   "outputs": [],
   "source": [
    "作業1：\n",
    "1. 你選的這組資料為何重要\n",
    "好玩\n",
    "\n",
    "2. 資料從何而來 (tips: 譬如提供者是誰、以什麼方式蒐集)\n",
    "Dataset: NBA Players stats since 1950\n",
    "\n",
    "3. 蒐集而來的資料型態為何\n",
    "結構化資料\n",
    "\n",
    "4. 這組資料想解決的問題如何評估\n",
    "利用關聯規則來評估怎麼樣的球員組合能獲得最多勝，以及總冠軍\n",
    "\n",
    "作業2：\n",
    "1. 核心問題為何 (tips：如何定義 「提升業績 & 你的假設」)\n",
    "提升業績:瞭解客戶的喜好與需求、做好時間管理\n",
    "    \n",
    "假設: 例如在某個地區中，某個時間點，許多顧客會產生在某些熱點，就能讓車輛不漫無目的的載客\n",
    "\n",
    "2. 資料從何而來 (tips：哪些資料可能會對你想問的問題產生影響 & 資料如何蒐集)\n",
    "\n",
    "手機GPS定位或者是Dataset:Uber Pickups in New York City\n",
    "\n",
    "3. 蒐集而來的資料型態為何\n",
    "\n",
    "結構化資料\n",
    "\n",
    "4. 你要回答的問題，其如何評估 (tips：你的假設如何驗證)\n",
    "\n",
    "利用分類問題來判斷是否為正確"
   ]
  }
 ],
 "metadata": {
  "kernelspec": {
   "display_name": "Python 3",
   "language": "python",
   "name": "python3"
  },
  "language_info": {
   "codemirror_mode": {
    "name": "ipython",
    "version": 3
   },
   "file_extension": ".py",
   "mimetype": "text/x-python",
   "name": "python",
   "nbconvert_exporter": "python",
   "pygments_lexer": "ipython3",
   "version": "3.7.3"
  }
 },
 "nbformat": 4,
 "nbformat_minor": 2
}
